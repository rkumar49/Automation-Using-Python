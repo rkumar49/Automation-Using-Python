{
 "cells": [
  {
   "cell_type": "code",
   "execution_count": 1,
   "id": "d7d52acb",
   "metadata": {},
   "outputs": [],
   "source": [
    "import pandas as pd\n",
    "import numpy as np\n",
    "from pydantic import BaseModel, ValidationError, field_validator\n",
    "from typing import Optional, List, Dict, Any"
   ]
  },
  {
   "cell_type": "code",
   "execution_count": 2,
   "id": "d0b87745",
   "metadata": {},
   "outputs": [],
   "source": [
    "class DataValidator(BaseModel):\n",
    "    \"\"\"Pydantic model for data validation\"\"\"\n",
    "    name: str\n",
    "    age: Optional[int] = None\n",
    "    email: Optional[str] = None\n",
    "    salary: Optional[float] = None\n",
    "    \n",
    "    @field_validator('age')\n",
    "    @classmethod\n",
    "    def validate_age(cls, v):\n",
    "        if v is not None and (v < 0 or v > 120):\n",
    "            raise ValueError('Age must be between 0 and 120')\n",
    "        return v\n",
    "    \n",
    "    @field_validator('email')\n",
    "    @classmethod\n",
    "    def validate_email(cls, v):\n",
    "        if v and '@' not in v:\n",
    "            raise ValueError('Invalid email format')\n",
    "        return v\n",
    "\n"
   ]
  },
  {
   "cell_type": "code",
   "execution_count": 3,
   "id": "a60e1db2",
   "metadata": {},
   "outputs": [
    {
     "name": "stdout",
     "output_type": "stream",
     "text": [
      "Cleaned Data:\n",
      "           name  age            email   salary\n",
      "0  Tara Jamison   25  taraj@email.com  50000.0\n",
      "1      Lucy Lee   25   lucy@email.com  50000.0\n",
      "2       Unknown   35   jane@email.com  55000.0\n",
      "\n",
      "Stats: {'duplicates_removed': 1, 'nulls_handled': 0, 'validation_errors': 2}\n",
      "Validation Errors: 2\n"
     ]
    },
    {
     "name": "stderr",
     "output_type": "stream",
     "text": [
      "C:\\Users\\Rahul\\AppData\\Local\\Temp\\ipykernel_2360\\3532800408.py:15: SettingWithCopyWarning: \n",
      "A value is trying to be set on a copy of a slice from a DataFrame.\n",
      "Try using .loc[row_indexer,col_indexer] = value instead\n",
      "\n",
      "See the caveats in the documentation: https://pandas.pydata.org/pandas-docs/stable/user_guide/indexing.html#returning-a-view-versus-a-copy\n",
      "  df[numeric_columns] = df[numeric_columns].fillna(df[numeric_columns].median())\n",
      "C:\\Users\\Rahul\\AppData\\Local\\Temp\\ipykernel_2360\\3532800408.py:18: SettingWithCopyWarning: \n",
      "A value is trying to be set on a copy of a slice from a DataFrame.\n",
      "Try using .loc[row_indexer,col_indexer] = value instead\n",
      "\n",
      "See the caveats in the documentation: https://pandas.pydata.org/pandas-docs/stable/user_guide/indexing.html#returning-a-view-versus-a-copy\n",
      "  df[string_columns] = df[string_columns].fillna('Unknown')\n"
     ]
    }
   ],
   "source": [
    "class DataPipeline:\n",
    "    def __init__(self):\n",
    "        self.cleaning_stats = {'duplicates_removed': 0, 'nulls_handled': 0, 'validation_errors': 0}\n",
    "    \n",
    "    def clean_data(self, df: pd.DataFrame) -> pd.DataFrame:\n",
    "        \"\"\"Clean the dataset by handling duplicates and missing values\"\"\"\n",
    "        initial_rows = len(df)\n",
    "        \n",
    "        # Remove duplicates\n",
    "        df = df.drop_duplicates()\n",
    "        self.cleaning_stats['duplicates_removed'] = initial_rows - len(df)\n",
    "        \n",
    "        # Handle missing values\n",
    "        numeric_columns = df.select_dtypes(include=[np.number]).columns\n",
    "        df[numeric_columns] = df[numeric_columns].fillna(df[numeric_columns].median())\n",
    "        \n",
    "        string_columns = df.select_dtypes(include=['object']).columns\n",
    "        df[string_columns] = df[string_columns].fillna('Unknown')\n",
    "        \n",
    "        self.cleaning_stats['nulls_handled'] = df.isnull().sum().sum()\n",
    "        return df\n",
    "    \n",
    "    def validate_data(self, df: pd.DataFrame) -> pd.DataFrame:\n",
    "        \"\"\"Validate each row using Pydantic model\"\"\"\n",
    "        valid_rows = []\n",
    "        errors = []\n",
    "        \n",
    "        for idx, row in df.iterrows():\n",
    "            try:\n",
    "                validated_row = DataValidator(**row.to_dict())\n",
    "                valid_rows.append(validated_row.model_dump())\n",
    "            except ValidationError as e:\n",
    "                errors.append({'row': idx, 'errors': str(e)})\n",
    "        \n",
    "        self.cleaning_stats['validation_errors'] = len(errors)\n",
    "        return pd.DataFrame(valid_rows), errors\n",
    "    \n",
    "    def process(self, df: pd.DataFrame) -> Dict[str, Any]:\n",
    "        \"\"\"Main pipeline method\"\"\"\n",
    "        cleaned_df = self.clean_data(df.copy())\n",
    "        validated_df, validation_errors = self.validate_data(cleaned_df)\n",
    "        \n",
    "        return {\n",
    "            'cleaned_data': validated_df,\n",
    "            'validation_errors': validation_errors,\n",
    "            'stats': self.cleaning_stats\n",
    "        }\n",
    "\n",
    "\n",
    "# Example usage\n",
    "if __name__ == \"__main__\":\n",
    "    # Sample messy data\n",
    "    sample_data = pd.DataFrame({\n",
    "    'name': ['Tara Jamison', 'Jane Smith', 'Lucy Lee', None, 'Clara Clark','Jane Smith'],\n",
    "    'age': [25, -5, 25, 35, 150,-5],\n",
    "    'email': ['taraj@email.com', 'invalid-email', 'lucy@email.com', 'jane@email.com', 'clara@email.com','invalid-email'],\n",
    "    'salary': [50000, 60000, 50000, None, 75000,60000]\n",
    "})\n",
    "    \n",
    "    pipeline = DataPipeline()\n",
    "    result = pipeline.process(sample_data)\n",
    "    \n",
    "    print(\"Cleaned Data:\")\n",
    "    print(result['cleaned_data'])\n",
    "    print(f\"\\nStats: {result['stats']}\")\n",
    "    print(f\"Validation Errors: {len(result['validation_errors'])}\")"
   ]
  },
  {
   "cell_type": "code",
   "execution_count": null,
   "id": "81707636",
   "metadata": {},
   "outputs": [],
   "source": []
  }
 ],
 "metadata": {
  "kernelspec": {
   "display_name": "Python 3 (ipykernel)",
   "language": "python",
   "name": "python3"
  },
  "language_info": {
   "codemirror_mode": {
    "name": "ipython",
    "version": 3
   },
   "file_extension": ".py",
   "mimetype": "text/x-python",
   "name": "python",
   "nbconvert_exporter": "python",
   "pygments_lexer": "ipython3",
   "version": "3.8.16"
  }
 },
 "nbformat": 4,
 "nbformat_minor": 5
}
