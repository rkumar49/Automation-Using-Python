{
 "cells": [
  {
   "cell_type": "code",
   "execution_count": 4,
   "id": "6ff4ee3e",
   "metadata": {},
   "outputs": [
    {
     "name": "stdout",
     "output_type": "stream",
     "text": [
      "['.ipynb_checkpoints', 'employees.json.txt', 'Untitled.ipynb']\n"
     ]
    }
   ],
   "source": [
    "import os\n",
    "\n",
    "path = r\"C:/Users/Rahul/Downloads/Build a Data Cleaning & Validation Pipeline/Pydantic Basic\"\n",
    "print(os.listdir(path))\n"
   ]
  },
  {
   "cell_type": "code",
   "execution_count": 5,
   "id": "53ebaf18",
   "metadata": {},
   "outputs": [
    {
     "name": "stdout",
     "output_type": "stream",
     "text": [
      "Valid employee record: John Doe\n",
      "Valid employee record: Jane Smith\n",
      "Invalid employee record: Alice Brown\n",
      "Errors: [{'type': 'value_error', 'loc': ('email',), 'msg': 'value is not a valid email address: The email address is not valid. It must have exactly one @-sign.', 'input': 'invalid-email', 'ctx': {'reason': 'The email address is not valid. It must have exactly one @-sign.'}}, {'type': 'value_error', 'loc': ('employee_id',), 'msg': 'Value error, Employee ID must be exactly 6 alphanumeric characters', 'input': 'EMP0034', 'ctx': {'error': ValueError('Employee ID must be exactly 6 alphanumeric characters')}, 'url': 'https://errors.pydantic.dev/2.8/v/value_error'}]\n",
      "Valid employee record: Dave West\n"
     ]
    },
    {
     "name": "stderr",
     "output_type": "stream",
     "text": [
      "C:\\Users\\Rahul\\AppData\\Local\\Temp\\ipykernel_26052\\693415554.py:12: PydanticDeprecatedSince20: Pydantic V1 style `@validator` validators are deprecated. You should migrate to Pydantic V2 style `@field_validator` validators, see the migration guide for more details. Deprecated in Pydantic V2.0 to be removed in V3.0. See Pydantic V2 Migration Guide at https://errors.pydantic.dev/2.8/migration/\n",
      "  @validator(\"employee_id\")\n"
     ]
    }
   ],
   "source": [
    "import json\n",
    "from pydantic import BaseModel, EmailStr, ValidationError, validator\n",
    "\n",
    "\n",
    "class Employee(BaseModel):\n",
    "    name: str\n",
    "    age: int\n",
    "    email: EmailStr\n",
    "    department: str\n",
    "    employee_id: str\n",
    "\n",
    "    @validator(\"employee_id\")\n",
    "    def validate_employee_id(cls, v):\n",
    "        if not v.isalnum() or len(v) != 6:\n",
    "            raise ValueError(\"Employee ID must be exactly 6 alphanumeric characters\")\n",
    "        return v\n",
    "\n",
    "\n",
    "# Load and parse the JSON data\n",
    "with open(\"C:/Users/Rahul/Downloads/Build a Data Cleaning & Validation Pipeline/Pydantic Basic/employees.json.txt\", \"r\") as f:\n",
    "    data = json.load(f)\n",
    "\n",
    "# Validate each employee record\n",
    "for record in data:\n",
    "    try:\n",
    "        employee = Employee(**record)\n",
    "        print(f\"Valid employee record: {employee.name}\")\n",
    "    except ValidationError as e:\n",
    "        print(f\"Invalid employee record: {record['name']}\")\n",
    "        print(f\"Errors: {e.errors()}\")"
   ]
  },
  {
   "cell_type": "code",
   "execution_count": null,
   "id": "ffcfc587",
   "metadata": {},
   "outputs": [],
   "source": []
  }
 ],
 "metadata": {
  "kernelspec": {
   "display_name": "Python 3 (ipykernel)",
   "language": "python",
   "name": "python3"
  },
  "language_info": {
   "codemirror_mode": {
    "name": "ipython",
    "version": 3
   },
   "file_extension": ".py",
   "mimetype": "text/x-python",
   "name": "python",
   "nbconvert_exporter": "python",
   "pygments_lexer": "ipython3",
   "version": "3.8.16"
  }
 },
 "nbformat": 4,
 "nbformat_minor": 5
}
